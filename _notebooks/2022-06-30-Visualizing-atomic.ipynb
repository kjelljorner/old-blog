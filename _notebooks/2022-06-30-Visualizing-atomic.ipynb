{
 "cells": [
  {
   "cell_type": "code",
   "execution_count": null,
   "metadata": {},
   "outputs": [],
   "source": [
    "# \"Visualizing atomic type orbitals in molecules\"\n",
    "> \"How to compute and visualize natural atomic orbitals with PySCF\"\n",
    "\n",
    "toc: true\n",
    "badges: true\n",
    "comments: true\n",
    "categories: [quantum chemistry]"
   ]
  },
  {
   "cell_type": "markdown",
   "metadata": {},
   "source": [
    "## Introduction \n",
    "\n",
    "Sometimes we need to display atomic type orbitals in a schematic way to visualize simple concepts. The molecular orbitals or even localized orbitals are then overly complex. Simple examples are the ChemDraw-style orbitals, which are used to rationalize reactions in organic chemistry. Now, is it possible to obtain similar orbitals, but in 3D?"
   ]
  },
  {
   "cell_type": "markdown",
   "metadata": {},
   "source": [
    "## Computing the 3D structure\n",
    "\n",
    "We will use benzene as an example. First we generate the 3D coordinates using RDKit"
   ]
  },
  {
   "cell_type": "code",
   "execution_count": 22,
   "metadata": {},
   "outputs": [],
   "source": [
    "from rdkit import Chem\n",
    "from rdkit.Chem import AllChem"
   ]
  },
  {
   "cell_type": "code",
   "execution_count": 23,
   "metadata": {},
   "outputs": [
    {
     "data": {
      "image/png": "[encoded data removed]",
      "text/plain": [
       "<rdkit.Chem.rdchem.Mol at 0x13c439040>"
      ]
     },
     "execution_count": 23,
     "metadata": {},
     "output_type": "execute_result"
    }
   ],
   "source": [
    "smiles = \"c1ccccc1\"\n",
    "mol = Chem.MolFromSmiles(smiles)\n",
    "mol = Chem.AddHs(mol)\n",
    "mol"
   ]
  },
  {
   "cell_type": "code",
   "execution_count": 24,
   "metadata": {},
   "outputs": [
    {
     "data": {
      "text/plain": [
       "0"
      ]
     },
     "execution_count": 24,
     "metadata": {},
     "output_type": "execute_result"
    }
   ],
   "source": [
    "AllChem.EmbedMolecule(mol)\n",
    "AllChem.MMFFOptimizeMolecule(mol)"
   ]
  },
  {
   "cell_type": "markdown",
   "metadata": {},
   "source": [
    "We visualize the structure using py3Dmol"
   ]
  },
  {
   "cell_type": "code",
   "execution_count": 25,
   "metadata": {},
   "outputs": [],
   "source": [
    "import py3Dmol"
   ]
  },
  {
   "cell_type": "code",
   "execution_count": 26,
   "metadata": {},
   "outputs": [
    {
     "data": {
      "application/3dmoljs_load.v0": "<div id=\"3dmolviewer_1656623764326807\"  style=\"position: relative; width: 640px; height: 480px\">\n        <p id=\"3dmolwarning_1656623764326807\" style=\"background-color:#ffcccc;color:black\">You appear to be running in JupyterLab (or JavaScript failed to load for some other reason).  You need to install the 3dmol extension: <br>\n        <tt>jupyter labextension install jupyterlab_3dmol</tt></p>\n        </div>\n<script>\n\nvar loadScriptAsync = function(uri){\n  return new Promise((resolve, reject) => {\n    var tag = document.createElement('script');\n    tag.src = uri;\n    tag.async = true;\n    tag.onload = () => {\n      resolve();\n    };\n  var firstScriptTag = document.getElementsByTagName('script')[0];\n  firstScriptTag.parentNode.insertBefore(tag, firstScriptTag);\n});\n};\n\nif(typeof $3Dmolpromise === 'undefined') {\n$3Dmolpromise = null;\n  $3Dmolpromise = loadScriptAsync('https://3dmol.org/build/3Dmol.js');\n}\n\nvar viewer_1656623764326807 = null;\nvar warn = document.getElementById(\"3dmolwarning_1656623764326807\");\nif(warn) {\n    warn.parentNode.removeChild(warn);\n}\n$3Dmolpromise.then(function() {\nviewer_1656623764326807 = $3Dmol.createViewer($(\"#3dmolviewer_1656623764326807\"),{backgroundColor:\"white\"});\nviewer_1656623764326807.zoomTo();\n\tviewer_1656623764326807.addModel(\"\\n     RDKit          3D\\n\\n 12 12  0  0  0  0  0  0  0  0999 V2000\\n    1.1568   -0.7754   -0.0789 C   0  0  0  0  0  0  0  0  0  0  0  0\\n    1.2524    0.6141   -0.0027 C   0  0  0  0  0  0  0  0  0  0  0  0\\n    0.0956    1.3895    0.0762 C   0  0  0  0  0  0  0  0  0  0  0  0\\n   -1.1568    0.7754    0.0789 C   0  0  0  0  0  0  0  0  0  0  0  0\\n   -1.2524   -0.6141    0.0027 C   0  0  0  0  0  0  0  0  0  0  0  0\\n   -0.0956   -1.3895   -0.0762 C   0  0  0  0  0  0  0  0  0  0  0  0\\n    2.0580   -1.3795   -0.1404 H   0  0  0  0  0  0  0  0  0  0  0  0\\n    2.2281    1.0925   -0.0049 H   0  0  0  0  0  0  0  0  0  0  0  0\\n    0.1701    2.4720    0.1356 H   0  0  0  0  0  0  0  0  0  0  0  0\\n   -2.0580    1.3795    0.1404 H   0  0  0  0  0  0  0  0  0  0  0  0\\n   -2.2281   -1.0925    0.0049 H   0  0  0  0  0  0  0  0  0  0  0  0\\n   -0.1701   -2.4720   -0.1356 H   0  0  0  0  0  0  0  0  0  0  0  0\\n  1  2  2  0\\n  2  3  1  0\\n  3  4  2  0\\n  4  5  1  0\\n  5  6  2  0\\n  6  1  1  0\\n  1  7  1  0\\n  2  8  1  0\\n  3  9  1  0\\n  4 10  1  0\\n  5 11  1  0\\n  6 12  1  0\\nM  END\\n\",\"mol\");\n\tviewer_1656623764326807.setStyle({\"stick\": {}});\nviewer_1656623764326807.render();\n});\n</script>",
      "text/html": [
       "<div id=\"3dmolviewer_1656623764326807\"  style=\"position: relative; width: 640px; height: 480px\">\n",
       "        <p id=\"3dmolwarning_1656623764326807\" style=\"background-color:#ffcccc;color:black\">You appear to be running in JupyterLab (or JavaScript failed to load for some other reason).  You need to install the 3dmol extension: <br>\n",
       "        <tt>jupyter labextension install jupyterlab_3dmol</tt></p>\n",
       "        </div>\n",
       "<script>\n",
       "\n",
       "var loadScriptAsync = function(uri){\n",
       "  return new Promise((resolve, reject) => {\n",
       "    var tag = document.createElement('script');\n",
       "    tag.src = uri;\n",
       "    tag.async = true;\n",
       "    tag.onload = () => {\n",
       "      resolve();\n",
       "    };\n",
       "  var firstScriptTag = document.getElementsByTagName('script')[0];\n",
       "  firstScriptTag.parentNode.insertBefore(tag, firstScriptTag);\n",
       "});\n",
       "};\n",
       "\n",
       "if(typeof $3Dmolpromise === 'undefined') {\n",
       "$3Dmolpromise = null;\n",
       "  $3Dmolpromise = loadScriptAsync('https://3dmol.org/build/3Dmol.js');\n",
       "}\n",
       "\n",
       "var viewer_1656623764326807 = null;\n",
       "var warn = document.getElementById(\"3dmolwarning_1656623764326807\");\n",
       "if(warn) {\n",
       "    warn.parentNode.removeChild(warn);\n",
       "}\n",
       "$3Dmolpromise.then(function() {\n",
       "viewer_1656623764326807 = $3Dmol.createViewer($(\"#3dmolviewer_1656623764326807\"),{backgroundColor:\"white\"});\n",
       "viewer_1656623764326807.zoomTo();\n",
       "\tviewer_1656623764326807.addModel(\"\\n     RDKit          3D\\n\\n 12 12  0  0  0  0  0  0  0  0999 V2000\\n    1.1568   -0.7754   -0.0789 C   0  0  0  0  0  0  0  0  0  0  0  0\\n    1.2524    0.6141   -0.0027 C   0  0  0  0  0  0  0  0  0  0  0  0\\n    0.0956    1.3895    0.0762 C   0  0  0  0  0  0  0  0  0  0  0  0\\n   -1.1568    0.7754    0.0789 C   0  0  0  0  0  0  0  0  0  0  0  0\\n   -1.2524   -0.6141    0.0027 C   0  0  0  0  0  0  0  0  0  0  0  0\\n   -0.0956   -1.3895   -0.0762 C   0  0  0  0  0  0  0  0  0  0  0  0\\n    2.0580   -1.3795   -0.1404 H   0  0  0  0  0  0  0  0  0  0  0  0\\n    2.2281    1.0925   -0.0049 H   0  0  0  0  0  0  0  0  0  0  0  0\\n    0.1701    2.4720    0.1356 H   0  0  0  0  0  0  0  0  0  0  0  0\\n   -2.0580    1.3795    0.1404 H   0  0  0  0  0  0  0  0  0  0  0  0\\n   -2.2281   -1.0925    0.0049 H   0  0  0  0  0  0  0  0  0  0  0  0\\n   -0.1701   -2.4720   -0.1356 H   0  0  0  0  0  0  0  0  0  0  0  0\\n  1  2  2  0\\n  2  3  1  0\\n  3  4  2  0\\n  4  5  1  0\\n  5  6  2  0\\n  6  1  1  0\\n  1  7  1  0\\n  2  8  1  0\\n  3  9  1  0\\n  4 10  1  0\\n  5 11  1  0\\n  6 12  1  0\\nM  END\\n\",\"mol\");\n",
       "\tviewer_1656623764326807.setStyle({\"stick\": {}});\n",
       "viewer_1656623764326807.render();\n",
       "});\n",
       "</script>"
      ]
     },
     "metadata": {},
     "output_type": "display_data"
    },
    {
     "data": {
      "text/plain": [
       "<py3Dmol.view at 0x13c3df7f0>"
      ]
     },
     "execution_count": 26,
     "metadata": {},
     "output_type": "execute_result"
    }
   ],
   "source": [
    "v = py3Dmol.view()\n",
    "v.addModel(Chem.MolToMolBlock(mol), 'mol')\n",
    "v.setStyle({'stick':{}})"
   ]
  },
  {
   "cell_type": "markdown",
   "metadata": {},
   "source": [
    "## Calculating the NAOs\n",
    "\n",
    "We will now use PySCF to calculate the NAOs. As we are only interested in the schematic form of the orbitals, the small STO-3G basis set will be sufficient. First we construct the PySCF Mole object from the RDKit Mol object."
   ]
  },
  {
   "cell_type": "code",
   "execution_count": 27,
   "metadata": {},
   "outputs": [],
   "source": [
    "import pyscf\n",
    "from pyscf import gto, lo, tools, dft "
   ]
  },
  {
   "cell_type": "code",
   "execution_count": 28,
   "metadata": {},
   "outputs": [
    {
     "data": {
      "text/plain": [
       "<pyscf.gto.mole.Mole at 0x13c403580>"
      ]
     },
     "execution_count": 28,
     "metadata": {},
     "output_type": "execute_result"
    }
   ],
   "source": [
    "elements = [atom.GetSymbol() for atom in mol.GetAtoms()]\n",
    "coordinates = mol.GetConformer().GetPositions()\n",
    "atoms = [(element, coordinate) for element, coordinate in zip(elements, coordinates)]\n",
    "\n",
    "pyscf_mole = gto.Mole(basis=\"sto-3g\")\n",
    "pyscf_mole.atom = atoms\n",
    "pyscf_mole.build()"
   ]
  },
  {
   "cell_type": "markdown",
   "metadata": {},
   "source": [
    "We then run the DFT calculation, which is actually quite fast"
   ]
  },
  {
   "cell_type": "code",
   "execution_count": 29,
   "metadata": {},
   "outputs": [
    {
     "name": "stdout",
     "output_type": "stream",
     "text": [
      "converged SCF energy = -229.25142113646\n"
     ]
    },
    {
     "data": {
      "text/plain": [
       "<pyscf.dft.rks.RKS at 0x139b613a0>"
      ]
     },
     "execution_count": 29,
     "metadata": {},
     "output_type": "execute_result"
    }
   ],
   "source": [
    "mf = dft.RKS(pyscf_mole)\n",
    "mf.xc = 'b3lyp'\n",
    "mf.run()"
   ]
  },
  {
   "cell_type": "markdown",
   "metadata": {},
   "source": [
    "We can now compute the NAOs from the 1-st order reduced density matrix. Note that we are here actually calculating the pre-orthogonal NAOs (PNAOs) that are even more local that the NAOs. We the write the PNAOs to cube files - these files can be quite large, ca 7 MB each."
   ]
  },
  {
   "cell_type": "code",
   "execution_count": 30,
   "metadata": {},
   "outputs": [],
   "source": [
    "dm = mf.make_rdm1()\n",
    "naos = lo.nao.prenao(pyscf_mole, dm)"
   ]
  },
  {
   "cell_type": "code",
   "execution_count": 31,
   "metadata": {},
   "outputs": [],
   "source": [
    "for i in range(naos.shape[1]):\n",
    "    tools.cubegen.orbital(pyscf_mole, 'benzene_nao_{:02d}.cube'.format(i+1), naos[:,i])"
   ]
  },
  {
   "cell_type": "markdown",
   "metadata": {},
   "source": [
    "## Visualizing the NAOs\n",
    "\n",
    "Here we use py3Dmol and ipywidgets to interactively view the orbitals. If you are viewing a static rending of this page, the interactive mode will not work, so you will need to open it on Binder or run it locally on your own machine."
   ]
  },
  {
   "cell_type": "code",
   "execution_count": 32,
   "metadata": {},
   "outputs": [],
   "source": [
    "from ipywidgets import interact"
   ]
  },
  {
   "cell_type": "code",
   "execution_count": 33,
   "metadata": {},
   "outputs": [],
   "source": [
    "def draw_orbital(view, i):\n",
    "    with open(f\"./benzene_nao_{i:02d}.cube\") as f:\n",
    "        cube_data = f.read()\n",
    "    view.addVolumetricData(cube_data, \"cube\", {'isoval': -0.04, 'color': \"red\", 'opacity': 0.75})\n",
    "    view.addVolumetricData(cube_data, \"cube\", {'isoval': 0.04, 'color': \"blue\", 'opacity': 0.75})\n",
    "    view.addModel(Chem.MolToMolBlock(mol), 'mol')\n",
    "    view.setStyle({'stick':{}})\n",
    "    view.zoomTo()\n",
    "    view.update()\n",
    "    view.clear()"
   ]
  },
  {
   "cell_type": "code",
   "execution_count": 34,
   "metadata": {},
   "outputs": [],
   "source": [
    "from ipywidgets import fixed, interact_manual, interactive"
   ]
  },
  {
   "cell_type": "code",
   "execution_count": 35,
   "metadata": {},
   "outputs": [
    {
     "data": {
      "application/3dmoljs_load.v0": "<div id=\"3dmolviewer_1656623781710321\"  style=\"position: relative; width: 400px; height: 400px\">\n        <p id=\"3dmolwarning_1656623781710321\" style=\"background-color:#ffcccc;color:black\">You appear to be running in JupyterLab (or JavaScript failed to load for some other reason).  You need to install the 3dmol extension: <br>\n        <tt>jupyter labextension install jupyterlab_3dmol</tt></p>\n        </div>\n<script>\n\nvar loadScriptAsync = function(uri){\n  return new Promise((resolve, reject) => {\n    var tag = document.createElement('script');\n    tag.src = uri;\n    tag.async = true;\n    tag.onload = () => {\n      resolve();\n    };\n  var firstScriptTag = document.getElementsByTagName('script')[0];\n  firstScriptTag.parentNode.insertBefore(tag, firstScriptTag);\n});\n};\n\nif(typeof $3Dmolpromise === 'undefined') {\n$3Dmolpromise = null;\n  $3Dmolpromise = loadScriptAsync('https://3dmol.org/build/3Dmol.js');\n}\n\nvar viewer_1656623781710321 = null;\nvar warn = document.getElementById(\"3dmolwarning_1656623781710321\");\nif(warn) {\n    warn.parentNode.removeChild(warn);\n}\n$3Dmolpromise.then(function() {\nviewer_1656623781710321 = $3Dmol.createViewer($(\"#3dmolviewer_1656623781710321\"),{backgroundColor:\"white\"});\nviewer_1656623781710321.zoomTo();\nviewer_1656623781710321.render();\n});\n</script>",
      "text/html": [
       "<div id=\"3dmolviewer_1656623781710321\"  style=\"position: relative; width: 400px; height: 400px\">\n",
       "        <p id=\"3dmolwarning_1656623781710321\" style=\"background-color:#ffcccc;color:black\">You appear to be running in JupyterLab (or JavaScript failed to load for some other reason).  You need to install the 3dmol extension: <br>\n",
       "        <tt>jupyter labextension install jupyterlab_3dmol</tt></p>\n",
       "        </div>\n",
       "<script>\n",
       "\n",
       "var loadScriptAsync = function(uri){\n",
       "  return new Promise((resolve, reject) => {\n",
       "    var tag = document.createElement('script');\n",
       "    tag.src = uri;\n",
       "    tag.async = true;\n",
       "    tag.onload = () => {\n",
       "      resolve();\n",
       "    };\n",
       "  var firstScriptTag = document.getElementsByTagName('script')[0];\n",
       "  firstScriptTag.parentNode.insertBefore(tag, firstScriptTag);\n",
       "});\n",
       "};\n",
       "\n",
       "if(typeof $3Dmolpromise === 'undefined') {\n",
       "$3Dmolpromise = null;\n",
       "  $3Dmolpromise = loadScriptAsync('https://3dmol.org/build/3Dmol.js');\n",
       "}\n",
       "\n",
       "var viewer_1656623781710321 = null;\n",
       "var warn = document.getElementById(\"3dmolwarning_1656623781710321\");\n",
       "if(warn) {\n",
       "    warn.parentNode.removeChild(warn);\n",
       "}\n",
       "$3Dmolpromise.then(function() {\n",
       "viewer_1656623781710321 = $3Dmol.createViewer($(\"#3dmolviewer_1656623781710321\"),{backgroundColor:\"white\"});\n",
       "viewer_1656623781710321.zoomTo();\n",
       "viewer_1656623781710321.render();\n",
       "});\n",
       "</script>"
      ]
     },
     "metadata": {},
     "output_type": "display_data"
    },
    {
     "data": {
      "application/vnd.jupyter.widget-view+json": {
       "model_id": "e5a2027985334cfcb0a216de555f67e5",
       "version_major": 2,
       "version_minor": 0
      },
      "text/plain": [
       "interactive(children=(IntSlider(value=18, description='i', max=36, min=1), Button(description='Run Interact', …"
      ]
     },
     "metadata": {},
     "output_type": "display_data"
    }
   ],
   "source": [
    "n_orbitals = naos.shape[1]\n",
    "view = py3Dmol.view(width=400,height=400)\n",
    "view.show()\n",
    "interact_manual(draw_orbital, view=fixed(view), i=(1, n_orbitals));"
   ]
  },
  {
   "cell_type": "markdown",
   "metadata": {},
   "source": [
    "## Acknowledgements\n",
    "\n",
    "iwatobipen's [blog post](https://iwatobipen.wordpress.com/2020/03/07/rendering-molecular-orbital-on-jupyter-notebook-psikit-py3dmol-rdkit-memo/) on the rendering of orbitals with py3Dmol was very helpful when writing this notebook."
   ]
  },
  {
   "cell_type": "markdown",
   "metadata": {},
   "source": [
    "## Licensing and citation\n",
    "\n",
    "Code free to use under an [MIT license](https://opensource.org/licenses/MIT).\n",
    "\n",
    "For citation, use webpage address and access date."
   ]
  }
 ],
 "metadata": {
  "kernelspec": {
   "display_name": "Python [conda env:polanyi]",
   "language": "python",
   "name": "conda-env-polanyi-py"
  },
  "language_info": {
   "codemirror_mode": {
    "name": "ipython",
    "version": 3
   },
   "file_extension": ".py",
   "mimetype": "text/x-python",
   "name": "python",
   "nbconvert_exporter": "python",
   "pygments_lexer": "ipython3",
   "version": "3.9.12"
  },
  "vscode": {
   "interpreter": {
    "hash": "bf7d64dfb275f7b3769773cfdc20de70334a86a49667a8416f86c02e4a49c1a4"
   }
  }
 },
 "nbformat": 4,
 "nbformat_minor": 4
}
